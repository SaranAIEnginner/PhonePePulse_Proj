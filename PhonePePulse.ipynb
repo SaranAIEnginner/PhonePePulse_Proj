{
 "cells": [
  {
   "cell_type": "code",
   "execution_count": 9,
   "metadata": {},
   "outputs": [],
   "source": [
    "import pandas as pd\n",
    "import numpy as np\n",
    "import mysql.connector as sql\n",
    "import sqlite3"
   ]
  },
  {
   "cell_type": "code",
   "execution_count": 3,
   "metadata": {},
   "outputs": [
    {
     "name": "stdout",
     "output_type": "stream",
     "text": [
      "                          State  Year  Quarter   Brands    Count  Percentage\n",
      "0     andaman-&-nicobar-islands  2018        1   Xiaomi     1665    0.247033\n",
      "1     andaman-&-nicobar-islands  2018        1  Samsung     1445    0.214392\n",
      "2     andaman-&-nicobar-islands  2018        1     Vivo      982    0.145697\n",
      "3     andaman-&-nicobar-islands  2018        1     Oppo      501    0.074332\n",
      "4     andaman-&-nicobar-islands  2018        1  OnePlus      332    0.049258\n",
      "...                         ...   ...      ...      ...      ...         ...\n",
      "6727                west-bengal  2022        1   Lenovo   330017    0.015056\n",
      "6728                west-bengal  2022        1  Infinix   284678    0.012987\n",
      "6729                west-bengal  2022        1     Asus   280347    0.012790\n",
      "6730                west-bengal  2022        1    Apple   277752    0.012671\n",
      "6731                west-bengal  2022        1   Others  2196334    0.100199\n",
      "\n",
      "[6732 rows x 6 columns]\n"
     ]
    }
   ],
   "source": [
    "df_agg_user = pd.read_csv('agg_user.csv')\n",
    "print(df_agg_user)"
   ]
  },
  {
   "cell_type": "code",
   "execution_count": 4,
   "metadata": {},
   "outputs": [
    {
     "name": "stdout",
     "output_type": "stream",
     "text": [
      "                          State  Year  Quarter          Transaction_type  \\\n",
      "0     andaman-&-nicobar-islands  2018        1  Recharge & bill payments   \n",
      "1     andaman-&-nicobar-islands  2018        1     Peer-to-peer payments   \n",
      "2     andaman-&-nicobar-islands  2018        1         Merchant payments   \n",
      "3     andaman-&-nicobar-islands  2018        1        Financial Services   \n",
      "4     andaman-&-nicobar-islands  2018        1                    Others   \n",
      "...                         ...   ...      ...                       ...   \n",
      "3589                west-bengal  2022        4     Peer-to-peer payments   \n",
      "3590                west-bengal  2022        4         Merchant payments   \n",
      "3591                west-bengal  2022        4  Recharge & bill payments   \n",
      "3592                west-bengal  2022        4        Financial Services   \n",
      "3593                west-bengal  2022        4                    Others   \n",
      "\n",
      "      Transaction_count  Transaction_amount  \n",
      "0                  4200        1.845307e+06  \n",
      "1                  1871        1.213866e+07  \n",
      "2                   298        4.525072e+05  \n",
      "3                    33        1.060142e+04  \n",
      "4                   256        1.846899e+05  \n",
      "...                 ...                 ...  \n",
      "3589          184380244        6.202222e+11  \n",
      "3590          171667404        1.408077e+11  \n",
      "3591           48921147        2.602663e+10  \n",
      "3592             268388        2.611229e+08  \n",
      "3593             610414        4.579379e+08  \n",
      "\n",
      "[3594 rows x 6 columns]\n"
     ]
    }
   ],
   "source": [
    "df_agg_trans = pd.read_csv('agg_trans.csv')\n",
    "print(df_agg_trans)"
   ]
  },
  {
   "cell_type": "code",
   "execution_count": 5,
   "metadata": {},
   "outputs": [
    {
     "name": "stdout",
     "output_type": "stream",
     "text": [
      "                           State  Year  Quarter  \\\n",
      "0      andaman-&-nicobar-islands  2018        1   \n",
      "1      andaman-&-nicobar-islands  2018        1   \n",
      "2      andaman-&-nicobar-islands  2018        1   \n",
      "3      andaman-&-nicobar-islands  2018        2   \n",
      "4      andaman-&-nicobar-islands  2018        2   \n",
      "...                          ...   ...      ...   \n",
      "14631                west-bengal  2022        4   \n",
      "14632                west-bengal  2022        4   \n",
      "14633                west-bengal  2022        4   \n",
      "14634                west-bengal  2022        4   \n",
      "14635                west-bengal  2022        4   \n",
      "\n",
      "                                District     Count        Amount  \n",
      "0      north and middle andaman district       442  9.316631e+05  \n",
      "1                 south andaman district      5688  1.256025e+07  \n",
      "2                      nicobars district       528  1.139849e+06  \n",
      "3      north and middle andaman district       825  1.317863e+06  \n",
      "4                 south andaman district      9395  2.394824e+07  \n",
      "...                                  ...       ...           ...  \n",
      "14631                     nadia district  12690126  2.804568e+10  \n",
      "14632                   birbhum district   7617444  1.614650e+10  \n",
      "14633           purba medinipur district  14484229  3.309949e+10  \n",
      "14634                    maldah district  12492746  2.721861e+10  \n",
      "14635                 darjiling district   8827502  1.801650e+10  \n",
      "\n",
      "[14636 rows x 6 columns]\n"
     ]
    }
   ],
   "source": [
    "df_map_trans = pd.read_csv('map_trans.csv')\n",
    "print(df_map_trans)"
   ]
  },
  {
   "cell_type": "code",
   "execution_count": 6,
   "metadata": {},
   "outputs": [
    {
     "name": "stdout",
     "output_type": "stream",
     "text": [
      "                           State  Year  Quarter  \\\n",
      "0      andaman-&-nicobar-islands  2018        1   \n",
      "1      andaman-&-nicobar-islands  2018        1   \n",
      "2      andaman-&-nicobar-islands  2018        1   \n",
      "3      andaman-&-nicobar-islands  2018        2   \n",
      "4      andaman-&-nicobar-islands  2018        2   \n",
      "...                          ...   ...      ...   \n",
      "14635                west-bengal  2022        4   \n",
      "14636                west-bengal  2022        4   \n",
      "14637                west-bengal  2022        4   \n",
      "14638                west-bengal  2022        4   \n",
      "14639                west-bengal  2022        4   \n",
      "\n",
      "                                District  RegisteredUser  AppOpens  \n",
      "0      north and middle andaman district             632         0  \n",
      "1                 south andaman district            5846         0  \n",
      "2                      nicobars district             262         0  \n",
      "3      north and middle andaman district             911         0  \n",
      "4                 south andaman district            8143         0  \n",
      "...                                  ...             ...       ...  \n",
      "14635                     nadia district         1359420  33853990  \n",
      "14636                   birbhum district          855236  20950662  \n",
      "14637           purba medinipur district         1346908  38278506  \n",
      "14638                    maldah district          954892  29023743  \n",
      "14639                 darjiling district          564562  15982631  \n",
      "\n",
      "[14640 rows x 6 columns]\n"
     ]
    }
   ],
   "source": [
    "df_map_user =pd.read_csv('map_user.csv')\n",
    "print(df_map_user)"
   ]
  },
  {
   "cell_type": "code",
   "execution_count": 7,
   "metadata": {},
   "outputs": [
    {
     "name": "stdout",
     "output_type": "stream",
     "text": [
      "                          State  Year  Quarter   Pincode  Transaction_count  \\\n",
      "0     andaman-&-nicobar-islands  2018        1  744101.0               1622   \n",
      "1     andaman-&-nicobar-islands  2018        1  744103.0               1223   \n",
      "2     andaman-&-nicobar-islands  2018        1  744102.0                969   \n",
      "3     andaman-&-nicobar-islands  2018        1  744105.0                685   \n",
      "4     andaman-&-nicobar-islands  2018        1  744104.0                340   \n",
      "...                         ...   ...      ...       ...                ...   \n",
      "7134                west-bengal  2022        4  722101.0            2900058   \n",
      "7135                west-bengal  2022        4  700135.0            2471048   \n",
      "7136                west-bengal  2022        4  732101.0            2407008   \n",
      "7137                west-bengal  2022        4  700091.0            2348447   \n",
      "7138                west-bengal  2022        4  711101.0            1765314   \n",
      "\n",
      "      Transaction_amount  \n",
      "0           2.769298e+06  \n",
      "1           2.238042e+06  \n",
      "2           3.519060e+06  \n",
      "3           1.298561e+06  \n",
      "4           1.039715e+06  \n",
      "...                  ...  \n",
      "7134        5.748321e+09  \n",
      "7135        3.527457e+09  \n",
      "7136        5.052109e+09  \n",
      "7137        2.176640e+09  \n",
      "7138        4.048329e+09  \n",
      "\n",
      "[7139 rows x 6 columns]\n"
     ]
    }
   ],
   "source": [
    "df_top_trans = pd.read_csv('top_trans.csv')\n",
    "print(df_top_trans)"
   ]
  },
  {
   "cell_type": "code",
   "execution_count": 8,
   "metadata": {},
   "outputs": [
    {
     "name": "stdout",
     "output_type": "stream",
     "text": [
      "                          State  Year  Quarter  Pincode  RegisteredUsers\n",
      "0     andaman-&-nicobar-islands  2018        1   744103             1608\n",
      "1     andaman-&-nicobar-islands  2018        1   744101             1108\n",
      "2     andaman-&-nicobar-islands  2018        1   744105             1075\n",
      "3     andaman-&-nicobar-islands  2018        1   744102             1006\n",
      "4     andaman-&-nicobar-islands  2018        1   744104              272\n",
      "...                         ...   ...      ...      ...              ...\n",
      "7135                west-bengal  2022        4   700015           108457\n",
      "7136                west-bengal  2022        4   742304           105471\n",
      "7137                west-bengal  2022        4   721101           105279\n",
      "7138                west-bengal  2022        4   700091           102363\n",
      "7139                west-bengal  2022        4   700150           101966\n",
      "\n",
      "[7140 rows x 5 columns]\n"
     ]
    }
   ],
   "source": [
    "df_top_user =pd.read_csv('top_user.csv')\n",
    "print(df_top_user)"
   ]
  },
  {
   "cell_type": "code",
   "execution_count": 11,
   "metadata": {},
   "outputs": [],
   "source": [
    "mydb =sqlite3.connect('Saran_Proj.db')\n",
    "mycursor = mydb.cursor()"
   ]
  },
  {
   "cell_type": "code",
   "execution_count": 25,
   "metadata": {},
   "outputs": [],
   "source": [
    "#creating table for agg_transaction"
   ]
  },
  {
   "cell_type": "code",
   "execution_count": 12,
   "metadata": {},
   "outputs": [],
   "source": [
    "mycursor.execute(\"create table agg_transaction (State varchar(100), Year int, Quarter int, Transaction_type varchar(100), Transaction_count int, Transaction_amount double)\")\n",
    "\n",
    "for i,row in df_agg_trans.iterrows():\n",
    "    #here %S means string values \n",
    "    sql = \"INSERT INTO agg_transaction VALUES (?,?,?,?,?,?)\"\n",
    "    mycursor.execute(sql, tuple(row))\n",
    "    # the connection is not auto committed by default, so we must commit to save our changes\n",
    "    mydb.commit()"
   ]
  },
  {
   "cell_type": "code",
   "execution_count": 14,
   "metadata": {},
   "outputs": [
    {
     "name": "stdout",
     "output_type": "stream",
     "text": [
      "                          State  Year  Quarter          Transaction_type  \\\n",
      "0     andaman-&-nicobar-islands  2018        1  Recharge & bill payments   \n",
      "1     andaman-&-nicobar-islands  2018        1     Peer-to-peer payments   \n",
      "2     andaman-&-nicobar-islands  2018        1         Merchant payments   \n",
      "3     andaman-&-nicobar-islands  2018        1        Financial Services   \n",
      "4     andaman-&-nicobar-islands  2018        1                    Others   \n",
      "...                         ...   ...      ...                       ...   \n",
      "3589                west-bengal  2022        4     Peer-to-peer payments   \n",
      "3590                west-bengal  2022        4         Merchant payments   \n",
      "3591                west-bengal  2022        4  Recharge & bill payments   \n",
      "3592                west-bengal  2022        4        Financial Services   \n",
      "3593                west-bengal  2022        4                    Others   \n",
      "\n",
      "      Transaction_count  Transaction_amount  \n",
      "0                  4200        1.845307e+06  \n",
      "1                  1871        1.213866e+07  \n",
      "2                   298        4.525072e+05  \n",
      "3                    33        1.060142e+04  \n",
      "4                   256        1.846899e+05  \n",
      "...                 ...                 ...  \n",
      "3589          184380244        6.202222e+11  \n",
      "3590          171667404        1.408077e+11  \n",
      "3591           48921147        2.602663e+10  \n",
      "3592             268388        2.611229e+08  \n",
      "3593             610414        4.579379e+08  \n",
      "\n",
      "[3594 rows x 6 columns]\n"
     ]
    }
   ],
   "source": [
    "#read table for agg_users\n",
    "a=pd.read_sql(\"\"\" select * from agg_transaction\"\"\",mydb)\n",
    "print(a)"
   ]
  },
  {
   "cell_type": "code",
   "execution_count": 15,
   "metadata": {},
   "outputs": [],
   "source": [
    "mycursor.execute(\"create table agg_users (State varchar(100), Year int, Quarter int, Brands varchar(100), Count int, Percentage double)\")\n",
    "\n",
    "for i,row in df_agg_user.iterrows():\n",
    "    sql = \"INSERT INTO agg_users VALUES (?,?,?,?,?,?)\"\n",
    "    mycursor.execute(sql, tuple(row))\n",
    "    mydb.commit()"
   ]
  },
  {
   "cell_type": "code",
   "execution_count": 16,
   "metadata": {},
   "outputs": [
    {
     "name": "stdout",
     "output_type": "stream",
     "text": [
      "                          State  Year  Quarter   Brands    Count  Percentage\n",
      "0     andaman-&-nicobar-islands  2018        1   Xiaomi     1665    0.247033\n",
      "1     andaman-&-nicobar-islands  2018        1  Samsung     1445    0.214392\n",
      "2     andaman-&-nicobar-islands  2018        1     Vivo      982    0.145697\n",
      "3     andaman-&-nicobar-islands  2018        1     Oppo      501    0.074332\n",
      "4     andaman-&-nicobar-islands  2018        1  OnePlus      332    0.049258\n",
      "...                         ...   ...      ...      ...      ...         ...\n",
      "6727                west-bengal  2022        1   Lenovo   330017    0.015056\n",
      "6728                west-bengal  2022        1  Infinix   284678    0.012987\n",
      "6729                west-bengal  2022        1     Asus   280347    0.012790\n",
      "6730                west-bengal  2022        1    Apple   277752    0.012671\n",
      "6731                west-bengal  2022        1   Others  2196334    0.100199\n",
      "\n",
      "[6732 rows x 6 columns]\n"
     ]
    }
   ],
   "source": [
    "#creating table for map_trans\n",
    "a=pd.read_sql(\"\"\" select * from agg_users\"\"\",mydb)\n",
    "print(a)"
   ]
  },
  {
   "cell_type": "code",
   "execution_count": 17,
   "metadata": {},
   "outputs": [],
   "source": [
    "mycursor.execute(\"create table map_trans (State varchar(100), Year int, Quarter int, District varchar(100), Count int, Amount double)\")\n",
    "\n",
    "for i,row in df_map_trans.iterrows():\n",
    "    sql = \"INSERT INTO map_trans VALUES (?,?,?,?,?,?)\"\n",
    "    mycursor.execute(sql, tuple(row))\n",
    "    mydb.commit()"
   ]
  },
  {
   "cell_type": "code",
   "execution_count": 18,
   "metadata": {},
   "outputs": [
    {
     "name": "stdout",
     "output_type": "stream",
     "text": [
      "                           State  Year  Quarter  \\\n",
      "0      andaman-&-nicobar-islands  2018        1   \n",
      "1      andaman-&-nicobar-islands  2018        1   \n",
      "2      andaman-&-nicobar-islands  2018        1   \n",
      "3      andaman-&-nicobar-islands  2018        2   \n",
      "4      andaman-&-nicobar-islands  2018        2   \n",
      "...                          ...   ...      ...   \n",
      "14631                west-bengal  2022        4   \n",
      "14632                west-bengal  2022        4   \n",
      "14633                west-bengal  2022        4   \n",
      "14634                west-bengal  2022        4   \n",
      "14635                west-bengal  2022        4   \n",
      "\n",
      "                                District     Count        Amount  \n",
      "0      north and middle andaman district       442  9.316631e+05  \n",
      "1                 south andaman district      5688  1.256025e+07  \n",
      "2                      nicobars district       528  1.139849e+06  \n",
      "3      north and middle andaman district       825  1.317863e+06  \n",
      "4                 south andaman district      9395  2.394824e+07  \n",
      "...                                  ...       ...           ...  \n",
      "14631                     nadia district  12690126  2.804568e+10  \n",
      "14632                   birbhum district   7617444  1.614650e+10  \n",
      "14633           purba medinipur district  14484229  3.309949e+10  \n",
      "14634                    maldah district  12492746  2.721861e+10  \n",
      "14635                 darjiling district   8827502  1.801650e+10  \n",
      "\n",
      "[14636 rows x 6 columns]\n"
     ]
    }
   ],
   "source": [
    "#creating table for top_trans\n",
    "a=pd.read_sql(\"\"\" select * from map_trans\"\"\",mydb)\n",
    "print(a)"
   ]
  },
  {
   "cell_type": "code",
   "execution_count": 32,
   "metadata": {},
   "outputs": [
    {
     "ename": "OperationalError",
     "evalue": "table map_user already exists",
     "output_type": "error",
     "traceback": [
      "\u001b[1;31m---------------------------------------------------------------------------\u001b[0m",
      "\u001b[1;31mOperationalError\u001b[0m                          Traceback (most recent call last)",
      "Cell \u001b[1;32mIn[32], line 1\u001b[0m\n\u001b[1;32m----> 1\u001b[0m mycursor\u001b[38;5;241m.\u001b[39mexecute(\u001b[38;5;124m\"\u001b[39m\u001b[38;5;124mcreate table map_user (State varchar(100), Year int, Quarter int, District varchar(100), RegisteredUser int, AppOpens int)\u001b[39m\u001b[38;5;124m\"\u001b[39m)\n\u001b[0;32m      3\u001b[0m \u001b[38;5;28;01mfor\u001b[39;00m i,row \u001b[38;5;129;01min\u001b[39;00m df_map_user\u001b[38;5;241m.\u001b[39miterrows():\n\u001b[0;32m      4\u001b[0m     sql \u001b[38;5;241m=\u001b[39m \u001b[38;5;124m\"\u001b[39m\u001b[38;5;124mINSERT INTO map_user VALUES (?,?,?,?,?,?)\u001b[39m\u001b[38;5;124m\"\u001b[39m\n",
      "\u001b[1;31mOperationalError\u001b[0m: table map_user already exists"
     ]
    }
   ],
   "source": [
    "mycursor.execute(\"create table map_user (State varchar(100), Year int, Quarter int, District varchar(100), RegisteredUser int, AppOpens double)\")\n",
    "\n",
    "for i,row in df_map_user.iterrows():\n",
    "    sql = \"INSERT INTO map_user VALUES (?,?,?,?,?,?)\"\n",
    "    mycursor.execute(sql, tuple(row))\n",
    "    mydb.commit()"
   ]
  },
  {
   "cell_type": "code",
   "execution_count": 33,
   "metadata": {},
   "outputs": [
    {
     "name": "stdout",
     "output_type": "stream",
     "text": [
      "                           State  Year  Quarter  \\\n",
      "0      andaman-&-nicobar-islands  2018        1   \n",
      "1      andaman-&-nicobar-islands  2018        1   \n",
      "2      andaman-&-nicobar-islands  2018        1   \n",
      "3      andaman-&-nicobar-islands  2018        2   \n",
      "4      andaman-&-nicobar-islands  2018        2   \n",
      "...                          ...   ...      ...   \n",
      "14635                west-bengal  2022        4   \n",
      "14636                west-bengal  2022        4   \n",
      "14637                west-bengal  2022        4   \n",
      "14638                west-bengal  2022        4   \n",
      "14639                west-bengal  2022        4   \n",
      "\n",
      "                                District  RegisteredUser  AppOpens  \n",
      "0      north and middle andaman district             632         0  \n",
      "1                 south andaman district            5846         0  \n",
      "2                      nicobars district             262         0  \n",
      "3      north and middle andaman district             911         0  \n",
      "4                 south andaman district            8143         0  \n",
      "...                                  ...             ...       ...  \n",
      "14635                     nadia district         1359420  33853990  \n",
      "14636                   birbhum district          855236  20950662  \n",
      "14637           purba medinipur district         1346908  38278506  \n",
      "14638                    maldah district          954892  29023743  \n",
      "14639                 darjiling district          564562  15982631  \n",
      "\n",
      "[14640 rows x 6 columns]\n"
     ]
    }
   ],
   "source": [
    "a=pd.read_sql(\"\"\" select * from map_user\"\"\",mydb)\n",
    "print(a)"
   ]
  },
  {
   "cell_type": "code",
   "execution_count": 19,
   "metadata": {},
   "outputs": [],
   "source": [
    "mycursor.execute(\"create table top_trans (State varchar(100), Year int, Quarter int, Pincode int, Transaction_count int, Transaction_amount double)\")\n",
    "\n",
    "for i,row in df_top_trans.iterrows():\n",
    "    sql = \"INSERT INTO top_trans VALUES (?,?,?,?,?,?)\"\n",
    "    mycursor.execute(sql, tuple(row))\n",
    "    mydb.commit()"
   ]
  },
  {
   "cell_type": "code",
   "execution_count": 20,
   "metadata": {},
   "outputs": [
    {
     "name": "stdout",
     "output_type": "stream",
     "text": [
      "                          State  Year  Quarter   Pincode  Transaction_count  \\\n",
      "0     andaman-&-nicobar-islands  2018        1  744101.0               1622   \n",
      "1     andaman-&-nicobar-islands  2018        1  744103.0               1223   \n",
      "2     andaman-&-nicobar-islands  2018        1  744102.0                969   \n",
      "3     andaman-&-nicobar-islands  2018        1  744105.0                685   \n",
      "4     andaman-&-nicobar-islands  2018        1  744104.0                340   \n",
      "...                         ...   ...      ...       ...                ...   \n",
      "7134                west-bengal  2022        4  722101.0            2900058   \n",
      "7135                west-bengal  2022        4  700135.0            2471048   \n",
      "7136                west-bengal  2022        4  732101.0            2407008   \n",
      "7137                west-bengal  2022        4  700091.0            2348447   \n",
      "7138                west-bengal  2022        4  711101.0            1765314   \n",
      "\n",
      "      Transaction_amount  \n",
      "0           2.769298e+06  \n",
      "1           2.238042e+06  \n",
      "2           3.519060e+06  \n",
      "3           1.298561e+06  \n",
      "4           1.039715e+06  \n",
      "...                  ...  \n",
      "7134        5.748321e+09  \n",
      "7135        3.527457e+09  \n",
      "7136        5.052109e+09  \n",
      "7137        2.176640e+09  \n",
      "7138        4.048329e+09  \n",
      "\n",
      "[7139 rows x 6 columns]\n"
     ]
    }
   ],
   "source": [
    "#Creating table for top_user\n",
    "a=pd.read_sql(\"\"\" select * from top_trans\"\"\",mydb)\n",
    "print(a)"
   ]
  },
  {
   "cell_type": "code",
   "execution_count": 29,
   "metadata": {},
   "outputs": [],
   "source": [
    "mycursor.execute(\"create table top_Usernew (State varchar(100), Year int, Quarter int, Pincode int, Registered_users int)\")\n",
    "\n",
    "for i,row in df_top_user.iterrows():\n",
    "    sql = \"INSERT INTO top_Usernew VALUES (?,?,?,?,?)\"\n",
    "    mycursor.execute(sql, tuple(row))\n",
    "    mydb.commit()"
   ]
  },
  {
   "cell_type": "code",
   "execution_count": 30,
   "metadata": {},
   "outputs": [
    {
     "name": "stdout",
     "output_type": "stream",
     "text": [
      "                          State  Year  Quarter  Pincode  Registered_users\n",
      "0     andaman-&-nicobar-islands  2018        1   744103              1608\n",
      "1     andaman-&-nicobar-islands  2018        1   744101              1108\n",
      "2     andaman-&-nicobar-islands  2018        1   744105              1075\n",
      "3     andaman-&-nicobar-islands  2018        1   744102              1006\n",
      "4     andaman-&-nicobar-islands  2018        1   744104               272\n",
      "...                         ...   ...      ...      ...               ...\n",
      "7135                west-bengal  2022        4   700015            108457\n",
      "7136                west-bengal  2022        4   742304            105471\n",
      "7137                west-bengal  2022        4   721101            105279\n",
      "7138                west-bengal  2022        4   700091            102363\n",
      "7139                west-bengal  2022        4   700150            101966\n",
      "\n",
      "[7140 rows x 5 columns]\n"
     ]
    }
   ],
   "source": [
    "a=pd.read_sql(\"\"\" select * from top_Usernew\"\"\",mydb)\n",
    "print(a)"
   ]
  }
 ],
 "metadata": {
  "kernelspec": {
   "display_name": "base",
   "language": "python",
   "name": "python3"
  },
  "language_info": {
   "codemirror_mode": {
    "name": "ipython",
    "version": 3
   },
   "file_extension": ".py",
   "mimetype": "text/x-python",
   "name": "python",
   "nbconvert_exporter": "python",
   "pygments_lexer": "ipython3",
   "version": "3.11.7"
  }
 },
 "nbformat": 4,
 "nbformat_minor": 2
}
